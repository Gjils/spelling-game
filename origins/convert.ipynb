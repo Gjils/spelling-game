{
 "cells": [
  {
   "cell_type": "code",
   "execution_count": 1,
   "metadata": {},
   "outputs": [],
   "source": [
    "import json\n",
    "import re"
   ]
  },
  {
   "cell_type": "code",
   "execution_count": 44,
   "metadata": {},
   "outputs": [
    {
     "data": {
      "text/plain": [
       "33900"
      ]
     },
     "execution_count": 44,
     "metadata": {},
     "output_type": "execute_result"
    }
   ],
   "source": [
    "def get_add_val(s, spec):\n",
    "  search_res = re.search(spec, s)\n",
    "  value = []\n",
    "  if search_res:\n",
    "    value = search_res[0][1:-1].split()\n",
    "  new_s = re.sub(spec, \"\", s)\n",
    "  return (new_s, value)\n",
    "\n",
    "def get_obj_from_line(orig_line, default_options, default_type):\n",
    "  if not orig_line.strip():\n",
    "    return None\n",
    "  line = str(orig_line)\n",
    "  line, context = get_add_val(line, r\"\\(\\w*\\)\")\n",
    "  line, add_types = get_add_val(line, r\"\\{\\w*\\}\")\n",
    "  line, options = get_add_val(line, r\"\\[[\\w _]*\\]\")\n",
    "  line, check = get_add_val(line, r\"\\/\\w*\\/\")\n",
    "  line = line.strip()\n",
    "  missed_letter = re.search(r\"[А-ЯЁ_]\", line)[0]\n",
    "  missed_index = line.find(missed_letter)\n",
    "  return {\n",
    "    \"word\": line.lower(),\n",
    "    \"missedLetter\": missed_letter.lower(),\n",
    "    \"missedIndex\": missed_index,\n",
    "    \"context\": context[0] if context else \"\",\n",
    "    \"type\": default_type + add_types,\n",
    "    \"options\": options if options else default_options[missed_letter.lower()]\n",
    "  }\n",
    "  \n",
    "def get_json_arr(task_number, file_name, default_options, default_type):\n",
    "  with open(f\"{task_number}/{file_name}.txt\", \"r\", encoding=\"utf-8\") as file:\n",
    "    lines = file.readlines()\n",
    "    return [get_obj_from_line(i,\n",
    "                              default_options, \n",
    "                              default_type)\n",
    "            for i in lines if i]\n",
    "    \n",
    "json_arr = (get_json_arr(10, \"glasn\", {\"и\": [\"и\", \"ы\"], \n",
    "                                    \"е\": [\"и\", \"е\"], \n",
    "                                    \"а\": [\"а\", \"о\"], \n",
    "                                    \"о\": [\"а\", \"о\"],\n",
    "                                    \"ы\": [\"и\", \"ы\"],\n",
    "                                    \"ь\": [\"ь\", \"ъ\", \"_\"],\n",
    "                                    \"ъ\": [\"ь\", \"ъ\", \"_\"],\n",
    "                                    \"_\": [\"ь\", \"ъ\", \"_\"],\n",
    "                                    \"с\": [\"з\", \"с\"],\n",
    "                                    \"з\": [\"з\", \"с\"],\n",
    "                                    \"д\": [\"д\", \"т\"],\n",
    "                                    \"т\": [\"д\", \"т\"],\n",
    "                                    }, [\"Гласные\"])\n",
    "+ get_json_arr(10, \"sogl\", {\"и\": [\"и\", \"ы\"], \n",
    "                                    \"е\": [\"и\", \"е\"], \n",
    "                                    \"а\": [\"а\", \"о\"], \n",
    "                                    \"о\": [\"а\", \"о\"],\n",
    "                                    \"ы\": [\"и\", \"ы\"],\n",
    "                                    \"ь\": [\"ь\", \"ъ\", \"_\"],\n",
    "                                    \"ъ\": [\"ь\", \"ъ\", \"_\"],\n",
    "                                    \"_\": [\"ь\", \"ъ\", \"_\"],\n",
    "                                    \"с\": [\"з\", \"с\"],\n",
    "                                    \"з\": [\"з\", \"с\"],\n",
    "                                    \"д\": [\"д\", \"т\"],\n",
    "                                    \"т\": [\"д\", \"т\"],\n",
    "                                    }, [\"Согласные\"])\n",
    "+ get_json_arr(10, \"prepri\", {\"и\": [\"и\", \"е\"], \n",
    "                                    \"е\": [\"и\", \"е\"], \n",
    "                                    \"а\": [\"а\", \"о\"], \n",
    "                                    \"о\": [\"а\", \"о\"],\n",
    "                                    \"ы\": [\"и\", \"ы\"],\n",
    "                                    \"ь\": [\"ь\", \"ъ\", \"_\"],\n",
    "                                    \"ъ\": [\"ь\", \"ъ\", \"_\"],\n",
    "                                    \"_\": [\"ь\", \"ъ\", \"_\"],\n",
    "                                    \"с\": [\"з\", \"с\"],\n",
    "                                    \"з\": [\"з\", \"с\"],\n",
    "                                    \"д\": [\"д\", \"т\"],\n",
    "                                    \"т\": [\"д\", \"т\"],\n",
    "                                    }, [\"Пре/при\"]))\n",
    "\n",
    "f = open(\"10/10.json\", \"a\")\n",
    "f.write(json.dumps(json_arr))"
   ]
  }
 ],
 "metadata": {
  "kernelspec": {
   "display_name": "Python 3",
   "language": "python",
   "name": "python3"
  },
  "language_info": {
   "codemirror_mode": {
    "name": "ipython",
    "version": 3
   },
   "file_extension": ".py",
   "mimetype": "text/x-python",
   "name": "python",
   "nbconvert_exporter": "python",
   "pygments_lexer": "ipython3",
   "version": "3.12.1"
  }
 },
 "nbformat": 4,
 "nbformat_minor": 2
}
